{
 "cells": [
  {
   "cell_type": "code",
   "execution_count": null,
   "id": "southwest-alcohol",
   "metadata": {},
   "outputs": [],
   "source": [
    "185 Covid19 and T2DM v2 .xlsx"
   ]
  },
  {
   "cell_type": "code",
   "execution_count": 1,
   "id": "representative-olive",
   "metadata": {},
   "outputs": [],
   "source": [
    "import pandas as pd\n",
    "import numpy as np\n",
    "import matplotlib.pyplot as plt\n",
    "import seaborn as sns\n",
    "from scipy import stats\n",
    "import numpy as np"
   ]
  },
  {
   "cell_type": "code",
   "execution_count": 2,
   "id": "expected-recovery",
   "metadata": {},
   "outputs": [
    {
     "data": {
      "text/html": [
       "        <script type=\"text/javascript\">\n",
       "        window.PlotlyConfig = {MathJaxConfig: 'local'};\n",
       "        if (window.MathJax) {MathJax.Hub.Config({SVG: {font: \"STIX-Web\"}});}\n",
       "        if (typeof require !== 'undefined') {\n",
       "        require.undef(\"plotly\");\n",
       "        requirejs.config({\n",
       "            paths: {\n",
       "                'plotly': ['https://cdn.plot.ly/plotly-latest.min']\n",
       "            }\n",
       "        });\n",
       "        require(['plotly'], function(Plotly) {\n",
       "            window._Plotly = Plotly;\n",
       "        });\n",
       "        }\n",
       "        </script>\n",
       "        "
      ]
     },
     "metadata": {},
     "output_type": "display_data"
    }
   ],
   "source": [
    "# plotly standard imports\n",
    "import plotly.graph_objs as go\n",
    "# Cufflinks wrapper on plotly\n",
    "import cufflinks as cf\n",
    "%matplotlib inline\n",
    "# Options for pandas\n",
    "from chart_studio.plotly import iplot\n",
    "plt.style.use('fivethirtyeight')\n"
   ]
  },
  {
   "cell_type": "code",
   "execution_count": 153,
   "id": "aerial-collector",
   "metadata": {},
   "outputs": [],
   "source": [
    "demographics = pd.read_excel('185 Covid19 and T2DM v2 .xlsx', sheet_name='Master')"
   ]
  },
  {
   "cell_type": "code",
   "execution_count": 5,
   "id": "passing-feeling",
   "metadata": {},
   "outputs": [],
   "source": [
    "#df = demographics.drop_duplicates('EPI')"
   ]
  },
  {
   "cell_type": "code",
   "execution_count": 154,
   "id": "drawn-system",
   "metadata": {},
   "outputs": [],
   "source": [
    "demographics1= demographics.drop_duplicates('EPI', keep = 'first')"
   ]
  },
  {
   "cell_type": "code",
   "execution_count": 155,
   "id": "wooden-drive",
   "metadata": {},
   "outputs": [
    {
     "data": {
      "text/html": [
       "<div>\n",
       "<style scoped>\n",
       "    .dataframe tbody tr th:only-of-type {\n",
       "        vertical-align: middle;\n",
       "    }\n",
       "\n",
       "    .dataframe tbody tr th {\n",
       "        vertical-align: top;\n",
       "    }\n",
       "\n",
       "    .dataframe thead th {\n",
       "        text-align: right;\n",
       "    }\n",
       "</style>\n",
       "<table border=\"1\" class=\"dataframe\">\n",
       "  <thead>\n",
       "    <tr style=\"text-align: right;\">\n",
       "      <th></th>\n",
       "      <th>VisitID</th>\n",
       "      <th>EncounterNumber</th>\n",
       "      <th>EPI</th>\n",
       "      <th>MRN</th>\n",
       "      <th>FacilityName</th>\n",
       "      <th>PatientName</th>\n",
       "      <th>PatientAge</th>\n",
       "      <th>Race</th>\n",
       "      <th>Gender</th>\n",
       "      <th>Ethnicity</th>\n",
       "      <th>...</th>\n",
       "      <th>HF</th>\n",
       "      <th>MI</th>\n",
       "      <th>Peripheral Vascular Disease</th>\n",
       "      <th>Diabetic retinopathy</th>\n",
       "      <th>Hyperlipidemia</th>\n",
       "      <th>CKD_3,4,5</th>\n",
       "      <th>diabetic neuropathy</th>\n",
       "      <th>Diabetic Peripheral Neuropathy</th>\n",
       "      <th>Tabacco Abuse</th>\n",
       "      <th>dementia</th>\n",
       "    </tr>\n",
       "  </thead>\n",
       "  <tbody>\n",
       "    <tr>\n",
       "      <th>0</th>\n",
       "      <td>46992140</td>\n",
       "      <td>500011031845</td>\n",
       "      <td>7716438.0</td>\n",
       "      <td>41284073</td>\n",
       "      <td>NSUH</td>\n",
       "      <td>BEGUM, REKHA</td>\n",
       "      <td>50</td>\n",
       "      <td>Asian</td>\n",
       "      <td>Female</td>\n",
       "      <td>Not Hispanic or Latino</td>\n",
       "      <td>...</td>\n",
       "      <td>N</td>\n",
       "      <td>N</td>\n",
       "      <td>N</td>\n",
       "      <td>N</td>\n",
       "      <td>Y</td>\n",
       "      <td>N</td>\n",
       "      <td>N</td>\n",
       "      <td>N</td>\n",
       "      <td>N</td>\n",
       "      <td>N</td>\n",
       "    </tr>\n",
       "    <tr>\n",
       "      <th>2</th>\n",
       "      <td>47646407</td>\n",
       "      <td>42858618</td>\n",
       "      <td>6748859.0</td>\n",
       "      <td>2969957</td>\n",
       "      <td>Long Island Jewish Hospital</td>\n",
       "      <td>CROSDALE, LORRAINE A</td>\n",
       "      <td>58</td>\n",
       "      <td>African Amer/Black</td>\n",
       "      <td>Female</td>\n",
       "      <td>Not Hispanic or Latino</td>\n",
       "      <td>...</td>\n",
       "      <td>Y</td>\n",
       "      <td>N</td>\n",
       "      <td>N</td>\n",
       "      <td>N</td>\n",
       "      <td>Y</td>\n",
       "      <td>N</td>\n",
       "      <td>N</td>\n",
       "      <td>N</td>\n",
       "      <td>N</td>\n",
       "      <td>N</td>\n",
       "    </tr>\n",
       "    <tr>\n",
       "      <th>3</th>\n",
       "      <td>47684812</td>\n",
       "      <td>42858761</td>\n",
       "      <td>7218561.0</td>\n",
       "      <td>3044802</td>\n",
       "      <td>Long Island Jewish Hospital</td>\n",
       "      <td>PHILLIPS, LAURA M</td>\n",
       "      <td>69</td>\n",
       "      <td>African Amer/Black</td>\n",
       "      <td>Female</td>\n",
       "      <td>Not Hispanic or Latino</td>\n",
       "      <td>...</td>\n",
       "      <td>Y</td>\n",
       "      <td>N</td>\n",
       "      <td>N</td>\n",
       "      <td>N</td>\n",
       "      <td>Y</td>\n",
       "      <td>Y</td>\n",
       "      <td>N</td>\n",
       "      <td>N</td>\n",
       "      <td>N</td>\n",
       "      <td>N</td>\n",
       "    </tr>\n",
       "    <tr>\n",
       "      <th>4</th>\n",
       "      <td>47709511</td>\n",
       "      <td>18276966</td>\n",
       "      <td>1537042.0</td>\n",
       "      <td>406631</td>\n",
       "      <td>SIUH North</td>\n",
       "      <td>SANZONE, ROSE</td>\n",
       "      <td>86</td>\n",
       "      <td>White</td>\n",
       "      <td>Female</td>\n",
       "      <td>Not Hispanic or Latino</td>\n",
       "      <td>...</td>\n",
       "      <td>Y</td>\n",
       "      <td>Y</td>\n",
       "      <td>N</td>\n",
       "      <td>N</td>\n",
       "      <td>Y</td>\n",
       "      <td>Y</td>\n",
       "      <td>N</td>\n",
       "      <td>N</td>\n",
       "      <td>N</td>\n",
       "      <td>N</td>\n",
       "    </tr>\n",
       "    <tr>\n",
       "      <th>5</th>\n",
       "      <td>47723753</td>\n",
       "      <td>500011084232</td>\n",
       "      <td>450579.0</td>\n",
       "      <td>1166969</td>\n",
       "      <td>Syosset Hospital</td>\n",
       "      <td>SHULMAN, LARRY H</td>\n",
       "      <td>60</td>\n",
       "      <td>White</td>\n",
       "      <td>Male</td>\n",
       "      <td>Not Hispanic or Latino</td>\n",
       "      <td>...</td>\n",
       "      <td>Y</td>\n",
       "      <td>N</td>\n",
       "      <td>N</td>\n",
       "      <td>N</td>\n",
       "      <td>Y</td>\n",
       "      <td>N</td>\n",
       "      <td>Y</td>\n",
       "      <td>N</td>\n",
       "      <td>N</td>\n",
       "      <td>N</td>\n",
       "    </tr>\n",
       "    <tr>\n",
       "      <th>...</th>\n",
       "      <td>...</td>\n",
       "      <td>...</td>\n",
       "      <td>...</td>\n",
       "      <td>...</td>\n",
       "      <td>...</td>\n",
       "      <td>...</td>\n",
       "      <td>...</td>\n",
       "      <td>...</td>\n",
       "      <td>...</td>\n",
       "      <td>...</td>\n",
       "      <td>...</td>\n",
       "      <td>...</td>\n",
       "      <td>...</td>\n",
       "      <td>...</td>\n",
       "      <td>...</td>\n",
       "      <td>...</td>\n",
       "      <td>...</td>\n",
       "      <td>...</td>\n",
       "      <td>...</td>\n",
       "      <td>...</td>\n",
       "      <td>...</td>\n",
       "    </tr>\n",
       "    <tr>\n",
       "      <th>9470</th>\n",
       "      <td>57569297</td>\n",
       "      <td>1653630879</td>\n",
       "      <td>8832499.0</td>\n",
       "      <td>829029</td>\n",
       "      <td>LIJ Forest Hills</td>\n",
       "      <td>BONCIC, VLATKO</td>\n",
       "      <td>63</td>\n",
       "      <td>White</td>\n",
       "      <td>Male</td>\n",
       "      <td>Not Hispanic or Latino</td>\n",
       "      <td>...</td>\n",
       "      <td>Y</td>\n",
       "      <td>Y</td>\n",
       "      <td>N</td>\n",
       "      <td>N</td>\n",
       "      <td>Y</td>\n",
       "      <td>N</td>\n",
       "      <td>N</td>\n",
       "      <td>N</td>\n",
       "      <td>N</td>\n",
       "      <td>N</td>\n",
       "    </tr>\n",
       "    <tr>\n",
       "      <th>9471</th>\n",
       "      <td>57570218</td>\n",
       "      <td>42906282</td>\n",
       "      <td>1211004.0</td>\n",
       "      <td>2648793</td>\n",
       "      <td>Long Island Jewish Hospital</td>\n",
       "      <td>ADELOKIKIDENTE, LOUISE</td>\n",
       "      <td>58</td>\n",
       "      <td>African Amer/Black</td>\n",
       "      <td>Female</td>\n",
       "      <td>Not Hispanic or Latino</td>\n",
       "      <td>...</td>\n",
       "      <td>N</td>\n",
       "      <td>N</td>\n",
       "      <td>N</td>\n",
       "      <td>N</td>\n",
       "      <td>Y</td>\n",
       "      <td>N</td>\n",
       "      <td>N</td>\n",
       "      <td>N</td>\n",
       "      <td>N</td>\n",
       "      <td>N</td>\n",
       "    </tr>\n",
       "    <tr>\n",
       "      <th>9472</th>\n",
       "      <td>57570317</td>\n",
       "      <td>500011739082</td>\n",
       "      <td>6952181.0</td>\n",
       "      <td>41265000</td>\n",
       "      <td>NSUH</td>\n",
       "      <td>CHEN, TSAI</td>\n",
       "      <td>73</td>\n",
       "      <td>Asian</td>\n",
       "      <td>Male</td>\n",
       "      <td>Not Hispanic or Latino</td>\n",
       "      <td>...</td>\n",
       "      <td>N</td>\n",
       "      <td>N</td>\n",
       "      <td>N</td>\n",
       "      <td>N</td>\n",
       "      <td>Y</td>\n",
       "      <td>Y</td>\n",
       "      <td>N</td>\n",
       "      <td>N</td>\n",
       "      <td>N</td>\n",
       "      <td>N</td>\n",
       "    </tr>\n",
       "    <tr>\n",
       "      <th>9473</th>\n",
       "      <td>57570757</td>\n",
       "      <td>500011738902</td>\n",
       "      <td>4006359.0</td>\n",
       "      <td>40730079</td>\n",
       "      <td>NSUH</td>\n",
       "      <td>YUNAEV, LARISA</td>\n",
       "      <td>42</td>\n",
       "      <td>White</td>\n",
       "      <td>Female</td>\n",
       "      <td>Not Hispanic or Latino</td>\n",
       "      <td>...</td>\n",
       "      <td>N</td>\n",
       "      <td>N</td>\n",
       "      <td>N</td>\n",
       "      <td>N</td>\n",
       "      <td>Y</td>\n",
       "      <td>N</td>\n",
       "      <td>N</td>\n",
       "      <td>N</td>\n",
       "      <td>N</td>\n",
       "      <td>N</td>\n",
       "    </tr>\n",
       "    <tr>\n",
       "      <th>9474</th>\n",
       "      <td>57572464</td>\n",
       "      <td>1752886638</td>\n",
       "      <td>959602.0</td>\n",
       "      <td>764369</td>\n",
       "      <td>SSUH</td>\n",
       "      <td>ORTIZ, HILDA</td>\n",
       "      <td>69</td>\n",
       "      <td>White</td>\n",
       "      <td>Female</td>\n",
       "      <td>Not Hispanic or Latino</td>\n",
       "      <td>...</td>\n",
       "      <td>N</td>\n",
       "      <td>N</td>\n",
       "      <td>N</td>\n",
       "      <td>N</td>\n",
       "      <td>Y</td>\n",
       "      <td>N</td>\n",
       "      <td>N</td>\n",
       "      <td>N</td>\n",
       "      <td>N</td>\n",
       "      <td>N</td>\n",
       "    </tr>\n",
       "  </tbody>\n",
       "</table>\n",
       "<p>9327 rows × 100 columns</p>\n",
       "</div>"
      ],
      "text/plain": [
       "       VisitID  EncounterNumber        EPI       MRN  \\\n",
       "0     46992140     500011031845  7716438.0  41284073   \n",
       "2     47646407         42858618  6748859.0   2969957   \n",
       "3     47684812         42858761  7218561.0   3044802   \n",
       "4     47709511         18276966  1537042.0    406631   \n",
       "5     47723753     500011084232   450579.0   1166969   \n",
       "...        ...              ...        ...       ...   \n",
       "9470  57569297       1653630879  8832499.0    829029   \n",
       "9471  57570218         42906282  1211004.0   2648793   \n",
       "9472  57570317     500011739082  6952181.0  41265000   \n",
       "9473  57570757     500011738902  4006359.0  40730079   \n",
       "9474  57572464       1752886638   959602.0    764369   \n",
       "\n",
       "                     FacilityName             PatientName  PatientAge  \\\n",
       "0                            NSUH            BEGUM, REKHA          50   \n",
       "2     Long Island Jewish Hospital    CROSDALE, LORRAINE A          58   \n",
       "3     Long Island Jewish Hospital       PHILLIPS, LAURA M          69   \n",
       "4                      SIUH North           SANZONE, ROSE          86   \n",
       "5                Syosset Hospital        SHULMAN, LARRY H          60   \n",
       "...                           ...                     ...         ...   \n",
       "9470             LIJ Forest Hills          BONCIC, VLATKO          63   \n",
       "9471  Long Island Jewish Hospital  ADELOKIKIDENTE, LOUISE          58   \n",
       "9472                         NSUH              CHEN, TSAI          73   \n",
       "9473                         NSUH          YUNAEV, LARISA          42   \n",
       "9474                         SSUH            ORTIZ, HILDA          69   \n",
       "\n",
       "                    Race  Gender               Ethnicity  ... HF MI  \\\n",
       "0                  Asian  Female  Not Hispanic or Latino  ...  N  N   \n",
       "2     African Amer/Black  Female  Not Hispanic or Latino  ...  Y  N   \n",
       "3     African Amer/Black  Female  Not Hispanic or Latino  ...  Y  N   \n",
       "4                  White  Female  Not Hispanic or Latino  ...  Y  Y   \n",
       "5                  White    Male  Not Hispanic or Latino  ...  Y  N   \n",
       "...                  ...     ...                     ...  ... .. ..   \n",
       "9470               White    Male  Not Hispanic or Latino  ...  Y  Y   \n",
       "9471  African Amer/Black  Female  Not Hispanic or Latino  ...  N  N   \n",
       "9472               Asian    Male  Not Hispanic or Latino  ...  N  N   \n",
       "9473               White  Female  Not Hispanic or Latino  ...  N  N   \n",
       "9474               White  Female  Not Hispanic or Latino  ...  N  N   \n",
       "\n",
       "     Peripheral Vascular Disease Diabetic retinopathy Hyperlipidemia  \\\n",
       "0                              N                    N              Y   \n",
       "2                              N                    N              Y   \n",
       "3                              N                    N              Y   \n",
       "4                              N                    N              Y   \n",
       "5                              N                    N              Y   \n",
       "...                          ...                  ...            ...   \n",
       "9470                           N                    N              Y   \n",
       "9471                           N                    N              Y   \n",
       "9472                           N                    N              Y   \n",
       "9473                           N                    N              Y   \n",
       "9474                           N                    N              Y   \n",
       "\n",
       "      CKD_3,4,5 diabetic neuropathy Diabetic Peripheral Neuropathy  \\\n",
       "0             N                   N                              N   \n",
       "2             N                   N                              N   \n",
       "3             Y                   N                              N   \n",
       "4             Y                   N                              N   \n",
       "5             N                   Y                              N   \n",
       "...         ...                 ...                            ...   \n",
       "9470          N                   N                              N   \n",
       "9471          N                   N                              N   \n",
       "9472          Y                   N                              N   \n",
       "9473          N                   N                              N   \n",
       "9474          N                   N                              N   \n",
       "\n",
       "     Tabacco Abuse dementia  \n",
       "0                N        N  \n",
       "2                N        N  \n",
       "3                N        N  \n",
       "4                N        N  \n",
       "5                N        N  \n",
       "...            ...      ...  \n",
       "9470             N        N  \n",
       "9471             N        N  \n",
       "9472             N        N  \n",
       "9473             N        N  \n",
       "9474             N        N  \n",
       "\n",
       "[9327 rows x 100 columns]"
      ]
     },
     "execution_count": 155,
     "metadata": {},
     "output_type": "execute_result"
    }
   ],
   "source": [
    "demographics1"
   ]
  },
  {
   "cell_type": "code",
   "execution_count": 17,
   "id": "everyday-harrison",
   "metadata": {},
   "outputs": [],
   "source": [
    "countdtm = demographics1.loc[demographics1.DischargeDisposition == 'Expired']\n",
    "\n",
    "\n"
   ]
  },
  {
   "cell_type": "code",
   "execution_count": 22,
   "id": "automatic-frederick",
   "metadata": {},
   "outputs": [
    {
     "data": {
      "text/plain": [
       "numpy.timedelta64(888780000000000,'ns')"
      ]
     },
     "execution_count": 22,
     "metadata": {},
     "output_type": "execute_result"
    }
   ],
   "source": [
    "np.median(countdtm.DischargeDtm - countdtm.admitdtm)"
   ]
  },
  {
   "cell_type": "code",
   "execution_count": 21,
   "id": "brutal-panel",
   "metadata": {},
   "outputs": [
    {
     "name": "stdout",
     "output_type": "stream",
     "text": [
      "Q1 25 percentile of the given data is,  450810000000000 nanoseconds\n",
      "Q1 50 percentile of the given data is,  888780000000000 nanoseconds\n",
      "Q1 75 percentile of the given data is,  1603680000000000 nanoseconds\n",
      "Interquartile range is 1152870000000000 nanoseconds\n"
     ]
    }
   ],
   "source": [
    "Q1 = np.percentile(countdtm.DischargeDtm - countdtm.admitdtm, 25, interpolation = 'midpoint') \n",
    "Q2 = np.percentile(countdtm.DischargeDtm - countdtm.admitdtm, 50, interpolation = 'midpoint') \n",
    "Q3 = np.percentile(countdtm.DischargeDtm - countdtm.admitdtm, 75, interpolation = 'midpoint') \n",
    "  \n",
    "print('Q1 25 percentile of the given data is, ', Q1)\n",
    "print('Q1 50 percentile of the given data is, ', Q2)\n",
    "print('Q1 75 percentile of the given data is, ', Q3)\n",
    "  \n",
    "IQR = Q3 - Q1 \n",
    "print('Interquartile range is', IQR)\n"
   ]
  },
  {
   "cell_type": "code",
   "execution_count": null,
   "id": "according-charm",
   "metadata": {},
   "outputs": [],
   "source": []
  },
  {
   "cell_type": "code",
   "execution_count": 156,
   "id": "engaging-anaheim",
   "metadata": {},
   "outputs": [
    {
     "data": {
      "text/plain": [
       "N    0.79554\n",
       "Y    0.20446\n",
       "Name: AdmissionMortality, dtype: float64"
      ]
     },
     "execution_count": 156,
     "metadata": {},
     "output_type": "execute_result"
    }
   ],
   "source": [
    "demographics1.AdmissionMortality.value_counts('Y')"
   ]
  },
  {
   "cell_type": "code",
   "execution_count": 157,
   "id": "respected-austin",
   "metadata": {},
   "outputs": [],
   "source": [
    "medication = pd.read_excel('185 Covid19 and T2DM v2 .xlsx', sheet_name='Admission Meds')"
   ]
  },
  {
   "cell_type": "code",
   "execution_count": 26,
   "id": "caroline-classroom",
   "metadata": {},
   "outputs": [
    {
     "data": {
      "text/html": [
       "<div>\n",
       "<style scoped>\n",
       "    .dataframe tbody tr th:only-of-type {\n",
       "        vertical-align: middle;\n",
       "    }\n",
       "\n",
       "    .dataframe tbody tr th {\n",
       "        vertical-align: top;\n",
       "    }\n",
       "\n",
       "    .dataframe thead th {\n",
       "        text-align: right;\n",
       "    }\n",
       "</style>\n",
       "<table border=\"1\" class=\"dataframe\">\n",
       "  <thead>\n",
       "    <tr style=\"text-align: right;\">\n",
       "      <th></th>\n",
       "      <th>VisitID</th>\n",
       "      <th>EncounterNumber</th>\n",
       "      <th>MRN</th>\n",
       "      <th>EPI</th>\n",
       "      <th>AdmitDtm</th>\n",
       "      <th>MedName</th>\n",
       "      <th>MedicationDtm</th>\n",
       "      <th>GenericName</th>\n",
       "      <th>ReconcileTypeCode</th>\n",
       "      <th>ReconcileStatus</th>\n",
       "      <th>Dosage</th>\n",
       "      <th>UOM</th>\n",
       "      <th>MedClass</th>\n",
       "    </tr>\n",
       "  </thead>\n",
       "  <tbody>\n",
       "    <tr>\n",
       "      <th>0</th>\n",
       "      <td>48073293</td>\n",
       "      <td>21090304</td>\n",
       "      <td>10264918</td>\n",
       "      <td>4164512.0</td>\n",
       "      <td>2020-03-30 19:13:00</td>\n",
       "      <td>insulin lispro (HumaLOG) corrective regimen sl...</td>\n",
       "      <td>2020-03-30 23:55:00.000</td>\n",
       "      <td>insulin lispro</td>\n",
       "      <td>Admission Reconciliation</td>\n",
       "      <td>Complete</td>\n",
       "      <td>Unknown</td>\n",
       "      <td>Unknown</td>\n",
       "      <td>Ultra Rapid-Acting Isulin</td>\n",
       "    </tr>\n",
       "    <tr>\n",
       "      <th>1</th>\n",
       "      <td>48073574</td>\n",
       "      <td>500011120663</td>\n",
       "      <td>41297891</td>\n",
       "      <td>7896277.0</td>\n",
       "      <td>2020-03-30 21:16:00</td>\n",
       "      <td>enoxaparin Injectable</td>\n",
       "      <td>2020-03-31 00:23:00.000</td>\n",
       "      <td>enoxaparin</td>\n",
       "      <td>Admission Reconciliation</td>\n",
       "      <td>Complete</td>\n",
       "      <td>0.25</td>\n",
       "      <td>milliGRAM(s)</td>\n",
       "      <td>Anticoagulants</td>\n",
       "    </tr>\n",
       "    <tr>\n",
       "      <th>2</th>\n",
       "      <td>48073642</td>\n",
       "      <td>21090314</td>\n",
       "      <td>10206652</td>\n",
       "      <td>2504738.0</td>\n",
       "      <td>2020-03-30 23:05:00</td>\n",
       "      <td>insulin glargine Injectable (LANTUS)</td>\n",
       "      <td>2020-03-31 01:36:00.000</td>\n",
       "      <td>insulin glargine</td>\n",
       "      <td>Admission Reconciliation</td>\n",
       "      <td>Complete</td>\n",
       "      <td>92</td>\n",
       "      <td>Unit(s)</td>\n",
       "      <td>Long-Acting Isulin</td>\n",
       "    </tr>\n",
       "    <tr>\n",
       "      <th>3</th>\n",
       "      <td>48073642</td>\n",
       "      <td>21090314</td>\n",
       "      <td>10206652</td>\n",
       "      <td>2504738.0</td>\n",
       "      <td>2020-03-30 23:05:00</td>\n",
       "      <td>insulin lispro (HumaLOG) corrective regimen sl...</td>\n",
       "      <td>2020-03-31 01:36:00.000</td>\n",
       "      <td>insulin lispro</td>\n",
       "      <td>Admission Reconciliation</td>\n",
       "      <td>Complete</td>\n",
       "      <td>Unknown</td>\n",
       "      <td>Unknown</td>\n",
       "      <td>Ultra Rapid-Acting Isulin</td>\n",
       "    </tr>\n",
       "    <tr>\n",
       "      <th>4</th>\n",
       "      <td>48073715</td>\n",
       "      <td>500011121109</td>\n",
       "      <td>40993306</td>\n",
       "      <td>6081694.0</td>\n",
       "      <td>2020-03-31 03:20:00</td>\n",
       "      <td>enoxaparin Injectable</td>\n",
       "      <td>2020-03-31 09:16:00.000</td>\n",
       "      <td>enoxaparin</td>\n",
       "      <td>Admission Reconciliation</td>\n",
       "      <td>Complete</td>\n",
       "      <td>0.25</td>\n",
       "      <td>milliGRAM(s)</td>\n",
       "      <td>Anticoagulants</td>\n",
       "    </tr>\n",
       "    <tr>\n",
       "      <th>...</th>\n",
       "      <td>...</td>\n",
       "      <td>...</td>\n",
       "      <td>...</td>\n",
       "      <td>...</td>\n",
       "      <td>...</td>\n",
       "      <td>...</td>\n",
       "      <td>...</td>\n",
       "      <td>...</td>\n",
       "      <td>...</td>\n",
       "      <td>...</td>\n",
       "      <td>...</td>\n",
       "      <td>...</td>\n",
       "      <td>...</td>\n",
       "    </tr>\n",
       "    <tr>\n",
       "      <th>24987</th>\n",
       "      <td>48405416</td>\n",
       "      <td>18315019</td>\n",
       "      <td>784651</td>\n",
       "      <td>1773905.0</td>\n",
       "      <td>2020-05-01 21:46:00</td>\n",
       "      <td>simvastatin</td>\n",
       "      <td>2020-05-02 01:00:00.000</td>\n",
       "      <td>simvastatin</td>\n",
       "      <td>Admission Reconciliation</td>\n",
       "      <td>Complete</td>\n",
       "      <td>0.25</td>\n",
       "      <td>milliGRAM(s)</td>\n",
       "      <td>Statins</td>\n",
       "    </tr>\n",
       "    <tr>\n",
       "      <th>24988</th>\n",
       "      <td>48405514</td>\n",
       "      <td>500011160685</td>\n",
       "      <td>41029746</td>\n",
       "      <td>6299519.0</td>\n",
       "      <td>2020-05-01 22:28:00</td>\n",
       "      <td>aspirin enteric coated</td>\n",
       "      <td>2020-05-01 23:07:00.000</td>\n",
       "      <td>aspirin</td>\n",
       "      <td>Admission Reconciliation</td>\n",
       "      <td>Complete</td>\n",
       "      <td>0.25</td>\n",
       "      <td>milliGRAM(s)</td>\n",
       "      <td>NSAID</td>\n",
       "    </tr>\n",
       "    <tr>\n",
       "      <th>24989</th>\n",
       "      <td>48405514</td>\n",
       "      <td>500011160685</td>\n",
       "      <td>41029746</td>\n",
       "      <td>6299519.0</td>\n",
       "      <td>2020-05-01 22:28:00</td>\n",
       "      <td>enoxaparin Injectable</td>\n",
       "      <td>2020-05-02 11:35:00.000</td>\n",
       "      <td>enoxaparin</td>\n",
       "      <td>Admission Reconciliation</td>\n",
       "      <td>Complete</td>\n",
       "      <td>0.25</td>\n",
       "      <td>milliGRAM(s)</td>\n",
       "      <td>Anticoagulants</td>\n",
       "    </tr>\n",
       "    <tr>\n",
       "      <th>24990</th>\n",
       "      <td>48405764</td>\n",
       "      <td>1752640571</td>\n",
       "      <td>31214732</td>\n",
       "      <td>817939.0</td>\n",
       "      <td>2020-05-02 00:13:00</td>\n",
       "      <td>insulin regular  human recombinant.</td>\n",
       "      <td>2020-05-02 00:25:11.927</td>\n",
       "      <td>insulin regular</td>\n",
       "      <td>Admission Reconciliation</td>\n",
       "      <td>Complete</td>\n",
       "      <td>92</td>\n",
       "      <td>Unit(s)</td>\n",
       "      <td>Rapid-Acting Isulin</td>\n",
       "    </tr>\n",
       "    <tr>\n",
       "      <th>24991</th>\n",
       "      <td>48405832</td>\n",
       "      <td>500011160933</td>\n",
       "      <td>41102772</td>\n",
       "      <td>3464173.0</td>\n",
       "      <td>2020-05-02 05:15:00</td>\n",
       "      <td>enoxaparin Injectable</td>\n",
       "      <td>2020-05-02 06:11:00.000</td>\n",
       "      <td>enoxaparin</td>\n",
       "      <td>Admission Reconciliation</td>\n",
       "      <td>Complete</td>\n",
       "      <td>0.25</td>\n",
       "      <td>milliGRAM(s)</td>\n",
       "      <td>Anticoagulants</td>\n",
       "    </tr>\n",
       "  </tbody>\n",
       "</table>\n",
       "<p>24992 rows × 13 columns</p>\n",
       "</div>"
      ],
      "text/plain": [
       "        VisitID  EncounterNumber       MRN        EPI            AdmitDtm  \\\n",
       "0      48073293         21090304  10264918  4164512.0 2020-03-30 19:13:00   \n",
       "1      48073574     500011120663  41297891  7896277.0 2020-03-30 21:16:00   \n",
       "2      48073642         21090314  10206652  2504738.0 2020-03-30 23:05:00   \n",
       "3      48073642         21090314  10206652  2504738.0 2020-03-30 23:05:00   \n",
       "4      48073715     500011121109  40993306  6081694.0 2020-03-31 03:20:00   \n",
       "...         ...              ...       ...        ...                 ...   \n",
       "24987  48405416         18315019    784651  1773905.0 2020-05-01 21:46:00   \n",
       "24988  48405514     500011160685  41029746  6299519.0 2020-05-01 22:28:00   \n",
       "24989  48405514     500011160685  41029746  6299519.0 2020-05-01 22:28:00   \n",
       "24990  48405764       1752640571  31214732   817939.0 2020-05-02 00:13:00   \n",
       "24991  48405832     500011160933  41102772  3464173.0 2020-05-02 05:15:00   \n",
       "\n",
       "                                                 MedName  \\\n",
       "0      insulin lispro (HumaLOG) corrective regimen sl...   \n",
       "1                                  enoxaparin Injectable   \n",
       "2                   insulin glargine Injectable (LANTUS)   \n",
       "3      insulin lispro (HumaLOG) corrective regimen sl...   \n",
       "4                                  enoxaparin Injectable   \n",
       "...                                                  ...   \n",
       "24987                                        simvastatin   \n",
       "24988                             aspirin enteric coated   \n",
       "24989                              enoxaparin Injectable   \n",
       "24990                insulin regular  human recombinant.   \n",
       "24991                              enoxaparin Injectable   \n",
       "\n",
       "                MedicationDtm       GenericName         ReconcileTypeCode  \\\n",
       "0     2020-03-30 23:55:00.000    insulin lispro  Admission Reconciliation   \n",
       "1     2020-03-31 00:23:00.000        enoxaparin  Admission Reconciliation   \n",
       "2     2020-03-31 01:36:00.000  insulin glargine  Admission Reconciliation   \n",
       "3     2020-03-31 01:36:00.000    insulin lispro  Admission Reconciliation   \n",
       "4     2020-03-31 09:16:00.000        enoxaparin  Admission Reconciliation   \n",
       "...                       ...               ...                       ...   \n",
       "24987 2020-05-02 01:00:00.000       simvastatin  Admission Reconciliation   \n",
       "24988 2020-05-01 23:07:00.000           aspirin  Admission Reconciliation   \n",
       "24989 2020-05-02 11:35:00.000        enoxaparin  Admission Reconciliation   \n",
       "24990 2020-05-02 00:25:11.927   insulin regular  Admission Reconciliation   \n",
       "24991 2020-05-02 06:11:00.000        enoxaparin  Admission Reconciliation   \n",
       "\n",
       "      ReconcileStatus   Dosage           UOM                   MedClass  \n",
       "0            Complete  Unknown       Unknown  Ultra Rapid-Acting Isulin  \n",
       "1            Complete     0.25  milliGRAM(s)             Anticoagulants  \n",
       "2            Complete       92       Unit(s)         Long-Acting Isulin  \n",
       "3            Complete  Unknown       Unknown  Ultra Rapid-Acting Isulin  \n",
       "4            Complete     0.25  milliGRAM(s)             Anticoagulants  \n",
       "...               ...      ...           ...                        ...  \n",
       "24987        Complete     0.25  milliGRAM(s)                    Statins  \n",
       "24988        Complete     0.25  milliGRAM(s)                      NSAID  \n",
       "24989        Complete     0.25  milliGRAM(s)             Anticoagulants  \n",
       "24990        Complete       92       Unit(s)        Rapid-Acting Isulin  \n",
       "24991        Complete     0.25  milliGRAM(s)             Anticoagulants  \n",
       "\n",
       "[24992 rows x 13 columns]"
      ]
     },
     "execution_count": 26,
     "metadata": {},
     "output_type": "execute_result"
    }
   ],
   "source": [
    "medication"
   ]
  },
  {
   "cell_type": "code",
   "execution_count": null,
   "id": "multiple-glass",
   "metadata": {},
   "outputs": [],
   "source": []
  },
  {
   "cell_type": "code",
   "execution_count": 158,
   "id": "sound-construction",
   "metadata": {},
   "outputs": [],
   "source": [
    "medication.MedClass = medication.MedClass.astype(str)"
   ]
  },
  {
   "cell_type": "code",
   "execution_count": 159,
   "id": "superb-thursday",
   "metadata": {},
   "outputs": [],
   "source": [
    "medsclass = pd.DataFrame(medication.groupby('EPI')['MedClass'].unique()).reset_index()"
   ]
  },
  {
   "cell_type": "code",
   "execution_count": 11,
   "id": "proud-brown",
   "metadata": {},
   "outputs": [],
   "source": [
    "df2 = medication.drop_duplicates('EPI', keep = 'first')"
   ]
  },
  {
   "cell_type": "markdown",
   "id": "juvenile-austin",
   "metadata": {},
   "source": [
    "# merge df1 and complicaiton"
   ]
  },
  {
   "cell_type": "code",
   "execution_count": 160,
   "id": "difficult-substitute",
   "metadata": {},
   "outputs": [],
   "source": [
    "dfwithmeds = pd.read_csv(\"epi with meds.csv\")"
   ]
  },
  {
   "cell_type": "code",
   "execution_count": 161,
   "id": "hybrid-guatemala",
   "metadata": {},
   "outputs": [],
   "source": [
    "df = pd.merge(demographics1, dfwithmeds, on = 'EPI')"
   ]
  },
  {
   "cell_type": "code",
   "execution_count": 162,
   "id": "hired-performer",
   "metadata": {},
   "outputs": [],
   "source": [
    "df = df.drop_duplicates('EPI',keep = 'first')"
   ]
  },
  {
   "cell_type": "code",
   "execution_count": 163,
   "id": "handed-faculty",
   "metadata": {},
   "outputs": [],
   "source": [
    "df['Diabetic Peripheral Neuropathy'] = pd.Categorical(df['Diabetic Peripheral Neuropathy'])\n",
    "df['diabet_peri'] = df['Diabetic Peripheral Neuropathy'].cat.codes"
   ]
  },
  {
   "cell_type": "code",
   "execution_count": 164,
   "id": "sustainable-bikini",
   "metadata": {},
   "outputs": [],
   "source": [
    "df['CKD_3,4,5'] = pd.Categorical(df['CKD_3,4,5'])\n",
    "df['CKD'] = df['CKD_3,4,5'].cat.codes"
   ]
  },
  {
   "cell_type": "code",
   "execution_count": 165,
   "id": "dependent-valve",
   "metadata": {},
   "outputs": [],
   "source": [
    "df['diabetic neuropathy'] = pd.Categorical(df['diabetic neuropathy'])\n",
    "df['diabet_neuor'] = df['diabetic neuropathy'].cat.codes\n"
   ]
  },
  {
   "cell_type": "code",
   "execution_count": 166,
   "id": "descending-decimal",
   "metadata": {},
   "outputs": [],
   "source": [
    "df['Diabetic retinopathy'] = pd.Categorical(df['Diabetic retinopathy'])\n",
    "df['diabet_retino'] = df['Diabetic retinopathy'].cat.codes\n"
   ]
  },
  {
   "cell_type": "code",
   "execution_count": 167,
   "id": "attended-spyware",
   "metadata": {},
   "outputs": [],
   "source": [
    "df['Diabetic foot ulcer'] = pd.Categorical(df['Diabetic foot ulcer'])\n",
    "df['fulcer'] = df['Diabetic foot ulcer'].cat.codes\n"
   ]
  },
  {
   "cell_type": "code",
   "execution_count": 168,
   "id": "available-instrumentation",
   "metadata": {},
   "outputs": [],
   "source": [
    " df['mi_cro'] = df['diabet_retino'] +df['fulcer']+ df['CKD']"
   ]
  },
  {
   "cell_type": "code",
   "execution_count": 116,
   "id": "varying-australia",
   "metadata": {},
   "outputs": [],
   "source": [
    "df['new'] = df[(df['diabet_retino'] == ) & (df['CKD'] ==  1) & (df['fulcer'] ==  1)]\n"
   ]
  },
  {
   "cell_type": "code",
   "execution_count": 224,
   "id": "palestinian-beaver",
   "metadata": {},
   "outputs": [
    {
     "data": {
      "text/plain": [
       "NOCOMPLCATION    6003\n",
       "CKDonly           942\n",
       "FUonly            194\n",
       "CKDFU             111\n",
       "DRCKD              49\n",
       "DRonly             37\n",
       "allthree           19\n",
       "DRFU               12\n",
       "Name: new, dtype: int64"
      ]
     },
     "execution_count": 224,
     "metadata": {},
     "output_type": "execute_result"
    }
   ],
   "source": [
    "df.new.value_counts()"
   ]
  },
  {
   "cell_type": "code",
   "execution_count": 228,
   "id": "institutional-nowhere",
   "metadata": {},
   "outputs": [
    {
     "data": {
      "text/plain": [
       "N    10\n",
       "Y     2\n",
       "Name: AdmissionMortality, dtype: int64"
      ]
     },
     "execution_count": 228,
     "metadata": {},
     "output_type": "execute_result"
    }
   ],
   "source": [
    "df.loc[df.new == 'DRFU'].AdmissionMortality.value_counts()"
   ]
  },
  {
   "cell_type": "code",
   "execution_count": 195,
   "id": "sacred-railway",
   "metadata": {
    "run_control": {
     "marked": true
    }
   },
   "outputs": [
    {
     "data": {
      "text/plain": [
       "N    6003\n",
       "Name: AdmissionMortality, dtype: int64"
      ]
     },
     "execution_count": 195,
     "metadata": {},
     "output_type": "execute_result"
    }
   ],
   "source": [
    "df.loc[df.mi_cro.loc[df.mi_cro == 0]].AdmissionMortality.value_counts()"
   ]
  },
  {
   "cell_type": "code",
   "execution_count": 65,
   "id": "chronic-compilation",
   "metadata": {},
   "outputs": [],
   "source": [
    "df['microvv'] = np.where(\n",
    "    df['mi_cro'] != 0 , \n",
    "    1, \n",
    "    0\n",
    ")"
   ]
  },
  {
   "cell_type": "code",
   "execution_count": 66,
   "id": "dramatic-census",
   "metadata": {},
   "outputs": [],
   "source": [
    "df.to_csv('onlyone.csv')"
   ]
  },
  {
   "cell_type": "code",
   "execution_count": 67,
   "id": "organic-efficiency",
   "metadata": {},
   "outputs": [],
   "source": [
    "df['microvv'] = np.where(\n",
    "    df['mi_cro'] == 2 , \n",
    "    1, \n",
    "    0\n",
    ")"
   ]
  },
  {
   "cell_type": "code",
   "execution_count": 68,
   "id": "dramatic-serum",
   "metadata": {},
   "outputs": [],
   "source": [
    "df.to_csv('onlytwo.csv')"
   ]
  },
  {
   "cell_type": "code",
   "execution_count": 69,
   "id": "metallic-providence",
   "metadata": {},
   "outputs": [],
   "source": [
    "df['microvv'] = np.where(\n",
    "    df['mi_cro'] == 3 , \n",
    "    1, \n",
    "    0\n",
    ")"
   ]
  },
  {
   "cell_type": "code",
   "execution_count": 70,
   "id": "russian-allen",
   "metadata": {},
   "outputs": [],
   "source": [
    "df.to_csv('onlythree.csv')"
   ]
  },
  {
   "cell_type": "code",
   "execution_count": null,
   "id": "prerequisite-illness",
   "metadata": {},
   "outputs": [],
   "source": [
    "df['microvv'] = np.where(\n",
    "    df['mi_cro'] != 0 , \n",
    "    1, \n",
    "    0\n",
    ")\n"
   ]
  },
  {
   "cell_type": "code",
   "execution_count": 37,
   "id": "unlikely-stick",
   "metadata": {},
   "outputs": [],
   "source": [
    "df['micro'] = df['diabet_retino'] +df['fulcer']+df['diabet_peri'] + df['diabet_neuor'] + df['CKD']"
   ]
  },
  {
   "cell_type": "code",
   "execution_count": 211,
   "id": "elder-acting",
   "metadata": {},
   "outputs": [],
   "source": [
    "df.loc[(df['CKD'] == 1) & (df['diabet_retino'] == 0) & (df['fulcer'] == 1) ,'new'] = 'CKDFU'\n"
   ]
  },
  {
   "cell_type": "code",
   "execution_count": 209,
   "id": "moving-specific",
   "metadata": {},
   "outputs": [
    {
     "data": {
      "text/plain": [
       "NOCOMPLCATION    6003\n",
       "CKDonly           942\n",
       "FUonly            194\n",
       "CKDFU             111\n",
       "DRCKD              49\n",
       "DRonly             37\n",
       "allthree           19\n",
       "DRFU               12\n",
       "Name: new, dtype: int64"
      ]
     },
     "execution_count": 209,
     "metadata": {},
     "output_type": "execute_result"
    }
   ],
   "source": [
    "df.new.value_counts()"
   ]
  },
  {
   "cell_type": "code",
   "execution_count": 152,
   "id": "round-level",
   "metadata": {},
   "outputs": [],
   "source": [
    "df = df.loc[df['new'] == 'CKDonly']"
   ]
  },
  {
   "cell_type": "code",
   "execution_count": 212,
   "id": "personal-festival",
   "metadata": {},
   "outputs": [
    {
     "data": {
      "text/plain": [
       "NOCOMPLCATION    6003\n",
       "CKDonly           942\n",
       "FUonly            194\n",
       "CKDFU             111\n",
       "DRCKD              49\n",
       "DRonly             37\n",
       "allthree           19\n",
       "DRFU               12\n",
       "Name: new, dtype: int64"
      ]
     },
     "execution_count": 212,
     "metadata": {},
     "output_type": "execute_result"
    }
   ],
   "source": [
    "df.new.value_counts()"
   ]
  },
  {
   "cell_type": "code",
   "execution_count": 183,
   "id": "commercial-lodge",
   "metadata": {},
   "outputs": [],
   "source": [
    "df['Gender1'] = pd.Categorical(df['Gender'])\n",
    "df['Gender1'] = df['Gender1'].cat.codes\n"
   ]
  },
  {
   "cell_type": "code",
   "execution_count": 220,
   "id": "natural-pasta",
   "metadata": {},
   "outputs": [],
   "source": [
    "df.to_csv('try1.csv')"
   ]
  },
  {
   "cell_type": "code",
   "execution_count": 219,
   "id": "posted-profile",
   "metadata": {},
   "outputs": [
    {
     "data": {
      "text/plain": [
       "NOCOMPLCATION    6003\n",
       "CKDonly           942\n",
       "FUonly            194\n",
       "CKDFU             111\n",
       "DRCKD              49\n",
       "DRonly             37\n",
       "allthree           19\n",
       "DRFU               12\n",
       "Name: new, dtype: int64"
      ]
     },
     "execution_count": 219,
     "metadata": {},
     "output_type": "execute_result"
    }
   ],
   "source": [
    "df.new.value_counts()"
   ]
  },
  {
   "cell_type": "code",
   "execution_count": 38,
   "id": "current-conclusion",
   "metadata": {},
   "outputs": [],
   "source": [
    "df['microv'] = np.where(\n",
    "    df['micro'] != 0 , \n",
    "    1, \n",
    "    0\n",
    ")"
   ]
  },
  {
   "cell_type": "code",
   "execution_count": 73,
   "id": "dirty-trash",
   "metadata": {},
   "outputs": [],
   "source": [
    "import statsmodels.api as sm\n",
    "import statsmodels.formula.api as smf\n"
   ]
  },
  {
   "cell_type": "code",
   "execution_count": 141,
   "id": "rough-vulnerability",
   "metadata": {},
   "outputs": [
    {
     "data": {
      "text/plain": [
       "0       50\n",
       "2       58\n",
       "3       86\n",
       "4       60\n",
       "5       45\n",
       "        ..\n",
       "7483    63\n",
       "7484    58\n",
       "7485    73\n",
       "7486    42\n",
       "7487    69\n",
       "Name: PatientAge, Length: 7367, dtype: int64"
      ]
     },
     "execution_count": 141,
     "metadata": {},
     "output_type": "execute_result"
    }
   ],
   "source": [
    "df.PatientAge"
   ]
  },
  {
   "cell_type": "code",
   "execution_count": 149,
   "id": "purple-marshall",
   "metadata": {},
   "outputs": [
    {
     "name": "stdout",
     "output_type": "stream",
     "text": [
      "Optimization terminated successfully.\n",
      "         Current function value: 0.450135\n",
      "         Iterations 6\n"
     ]
    },
    {
     "data": {
      "text/plain": [
       "Intercept               0.337349\n",
       "new[T.CKDonly]          1.088482\n",
       "new[T.DRCKD]            1.070437\n",
       "new[T.DRFULCER]         0.592857\n",
       "new[T.DRonly]           0.691667\n",
       "new[T.FUonly]           0.652516\n",
       "new[T.NOCOMPLCATION]    0.528963\n",
       "new[T.allthree]         0.790476\n",
       "dtype: float64"
      ]
     },
     "execution_count": 149,
     "metadata": {},
     "output_type": "execute_result"
    }
   ],
   "source": [
    "model = smf.logit(\"df.status.Y ~ new\", data = df).fit()\n",
    "\n",
    "np.exp(model.params)\n"
   ]
  },
  {
   "cell_type": "code",
   "execution_count": 150,
   "id": "eastern-linux",
   "metadata": {},
   "outputs": [
    {
     "name": "stdout",
     "output_type": "stream",
     "text": [
      "                            5%       95%  Odds Ratio\n",
      "Intercept             0.219813  0.517734    0.337349\n",
      "new[T.CKDonly]        0.692712  1.710370    1.088482\n",
      "new[T.DRCKD]          0.497962  2.301049    1.070437\n",
      "new[T.DRFULCER]       0.122425  2.870969    0.592857\n",
      "new[T.DRonly]         0.273575  1.748705    0.691667\n",
      "new[T.FUonly]         0.371466  1.146206    0.652516\n",
      "new[T.NOCOMPLCATION]  0.342681  0.816507    0.528963\n",
      "new[T.allthree]       0.242123  2.580726    0.790476\n"
     ]
    }
   ],
   "source": [
    "params = model.params\n",
    "conf = model.conf_int()\n",
    "conf['Odds Ratio'] = params\n",
    "conf.columns = ['5%', '95%', 'Odds Ratio']\n",
    "print(np.exp(conf)[:10])"
   ]
  },
  {
   "cell_type": "code",
   "execution_count": null,
   "id": "regulated-convenience",
   "metadata": {},
   "outputs": [],
   "source": []
  },
  {
   "cell_type": "markdown",
   "id": "eastern-washer",
   "metadata": {},
   "source": [
    "# MACRO"
   ]
  },
  {
   "cell_type": "code",
   "execution_count": 28,
   "id": "regional-hybrid",
   "metadata": {},
   "outputs": [
    {
     "data": {
      "text/plain": [
       "Index(['VisitID', 'EncounterNumber', 'EPI', 'MRN', 'FacilityName',\n",
       "       'PatientName', 'PatientAge', 'Race', 'Gender', 'Ethnicity',\n",
       "       ...\n",
       "       'both1', 'both', 'OTHER', 'diabet_peri', 'CKD', 'diabet_neuor',\n",
       "       'diabet_retino', 'fulcer', 'micro', 'microv'],\n",
       "      dtype='object', length=115)"
      ]
     },
     "execution_count": 28,
     "metadata": {},
     "output_type": "execute_result"
    }
   ],
   "source": [
    "df.columns"
   ]
  },
  {
   "cell_type": "code",
   "execution_count": 29,
   "id": "median-attendance",
   "metadata": {},
   "outputs": [],
   "source": [
    "df['Peripheral Vascular Disease'] = pd.Categorical(df['Peripheral Vascular Disease'])\n",
    "df['peri'] = df['Peripheral Vascular Disease'].cat.codes"
   ]
  },
  {
   "cell_type": "code",
   "execution_count": 30,
   "id": "inappropriate-alaska",
   "metadata": {},
   "outputs": [],
   "source": [
    "df['CAD'] = pd.Categorical(df['CAD'])\n",
    "df['cadcode'] = df['CAD'].cat.codes"
   ]
  },
  {
   "cell_type": "code",
   "execution_count": 31,
   "id": "logical-johnson",
   "metadata": {},
   "outputs": [],
   "source": [
    "df['Stroke'] = pd.Categorical(df['Stroke'])\n",
    "df['strokecode'] = df['Stroke'].cat.codes"
   ]
  },
  {
   "cell_type": "code",
   "execution_count": 32,
   "id": "outdoor-dynamics",
   "metadata": {},
   "outputs": [],
   "source": [
    "df['MI'] = pd.Categorical(df['MI'])\n",
    "df['MICODE'] = df['MI'].cat.codes"
   ]
  },
  {
   "cell_type": "code",
   "execution_count": 33,
   "id": "interim-stress",
   "metadata": {},
   "outputs": [],
   "source": [
    "df['TIA'] = pd.Categorical(df['TIA'])\n",
    "df['TIACOEE'] = df['TIA'].cat.codes"
   ]
  },
  {
   "cell_type": "code",
   "execution_count": 34,
   "id": "suspected-empire",
   "metadata": {},
   "outputs": [],
   "source": [
    "df['macro'] = df['peri'] +df['cadcode']+df['strokecode'] + df['MICODE'] + df['TIACOEE']"
   ]
  },
  {
   "cell_type": "code",
   "execution_count": 35,
   "id": "emerging-accused",
   "metadata": {},
   "outputs": [],
   "source": [
    "df['macrov'] = np.where(\n",
    "    df['macro'] != 0 , \n",
    "    1, \n",
    "    0\n",
    ")"
   ]
  },
  {
   "cell_type": "code",
   "execution_count": 36,
   "id": "combined-probe",
   "metadata": {},
   "outputs": [
    {
     "data": {
      "text/plain": [
       "Index(['VisitID', 'EncounterNumber', 'EPI', 'MRN', 'FacilityName',\n",
       "       'PatientName', 'PatientAge', 'Race', 'Gender', 'Ethnicity',\n",
       "       ...\n",
       "       'fulcer', 'micro', 'microv', 'peri', 'cadcode', 'strokecode', 'MICODE',\n",
       "       'TIACOEE', 'macro', 'macrov'],\n",
       "      dtype='object', length=122)"
      ]
     },
     "execution_count": 36,
     "metadata": {},
     "output_type": "execute_result"
    }
   ],
   "source": [
    "df.columns"
   ]
  },
  {
   "cell_type": "code",
   "execution_count": null,
   "id": "complex-guess",
   "metadata": {},
   "outputs": [],
   "source": []
  },
  {
   "cell_type": "code",
   "execution_count": 44,
   "id": "lined-china",
   "metadata": {},
   "outputs": [
    {
     "data": {
      "text/html": [
       "<div>\n",
       "<style scoped>\n",
       "    .dataframe tbody tr th:only-of-type {\n",
       "        vertical-align: middle;\n",
       "    }\n",
       "\n",
       "    .dataframe tbody tr th {\n",
       "        vertical-align: top;\n",
       "    }\n",
       "\n",
       "    .dataframe thead th {\n",
       "        text-align: right;\n",
       "    }\n",
       "</style>\n",
       "<table border=\"1\" class=\"dataframe\">\n",
       "  <thead>\n",
       "    <tr style=\"text-align: right;\">\n",
       "      <th>microv</th>\n",
       "      <th>0</th>\n",
       "      <th>1</th>\n",
       "      <th>All</th>\n",
       "    </tr>\n",
       "    <tr>\n",
       "      <th>CKD</th>\n",
       "      <th></th>\n",
       "      <th></th>\n",
       "      <th></th>\n",
       "    </tr>\n",
       "  </thead>\n",
       "  <tbody>\n",
       "    <tr>\n",
       "      <th>0</th>\n",
       "      <td>5567</td>\n",
       "      <td>679</td>\n",
       "      <td>6246</td>\n",
       "    </tr>\n",
       "    <tr>\n",
       "      <th>1</th>\n",
       "      <td>0</td>\n",
       "      <td>1121</td>\n",
       "      <td>1121</td>\n",
       "    </tr>\n",
       "    <tr>\n",
       "      <th>All</th>\n",
       "      <td>5567</td>\n",
       "      <td>1800</td>\n",
       "      <td>7367</td>\n",
       "    </tr>\n",
       "  </tbody>\n",
       "</table>\n",
       "</div>"
      ],
      "text/plain": [
       "microv     0     1   All\n",
       "CKD                     \n",
       "0       5567   679  6246\n",
       "1          0  1121  1121\n",
       "All     5567  1800  7367"
      ]
     },
     "execution_count": 44,
     "metadata": {},
     "output_type": "execute_result"
    }
   ],
   "source": [
    "pd.crosstab(df['CKD'], df['microv'], margins=True)\n",
    "\n",
    "#df['CKD'].value_counts(sort=False)"
   ]
  },
  {
   "cell_type": "markdown",
   "id": "municipal-action",
   "metadata": {},
   "source": [
    "# code ace"
   ]
  },
  {
   "cell_type": "code",
   "execution_count": 54,
   "id": "gross-advocacy",
   "metadata": {},
   "outputs": [],
   "source": [
    "df.loc[(df['ACEI'] == 1) & (df['STATINS'] == 1) | (df['ARB'] == 1) & (df['STATINS'] == 1),'aceiarbandstatin'] = 1\n"
   ]
  },
  {
   "cell_type": "code",
   "execution_count": 55,
   "id": "forty-representative",
   "metadata": {},
   "outputs": [],
   "source": [
    "df.loc[(df['ACEI'] == 1) | (df['ARB'] == 1) ,'aceiarbeither'] = 1\n"
   ]
  },
  {
   "cell_type": "code",
   "execution_count": 56,
   "id": "parliamentary-masters",
   "metadata": {},
   "outputs": [],
   "source": [
    "df.aceiarbeither = df.aceiarbeither.fillna('0')"
   ]
  },
  {
   "cell_type": "code",
   "execution_count": 57,
   "id": "removed-perry",
   "metadata": {},
   "outputs": [],
   "source": [
    "df.aceiarbandstatin= df.aceiarbandstatin.fillna('0')"
   ]
  },
  {
   "cell_type": "code",
   "execution_count": 58,
   "id": "warming-converter",
   "metadata": {},
   "outputs": [],
   "source": [
    "df.STATINSALONE = df.STATINSALONE.fillna('0')"
   ]
  },
  {
   "cell_type": "code",
   "execution_count": 59,
   "id": "divided-deployment",
   "metadata": {},
   "outputs": [],
   "source": [
    "df['HTN'] = pd.Categorical(df['HTN'])\n",
    "df['HTN'] = df['HTN'].cat.codes"
   ]
  },
  {
   "cell_type": "code",
   "execution_count": 93,
   "id": "average-bailey",
   "metadata": {},
   "outputs": [],
   "source": [
    "cleandf = df[['aceiarbeither','aceiarbandstatin','STATINSALONE','OTHER','microv','macrov','EPI','PatientAge','Race','Gender','LOSDays','HTN','status','AdmissionMortality']]"
   ]
  },
  {
   "cell_type": "code",
   "execution_count": 123,
   "id": "distributed-heating",
   "metadata": {},
   "outputs": [
    {
     "ename": "SyntaxError",
     "evalue": "invalid syntax (<ipython-input-123-3bacb411f49a>, line 1)",
     "output_type": "error",
     "traceback": [
      "\u001b[0;36m  File \u001b[0;32m\"<ipython-input-123-3bacb411f49a>\"\u001b[0;36m, line \u001b[0;32m1\u001b[0m\n\u001b[0;31m    cleandf.groupby('STATINSALONE').agg('PatientAge':'mean')\u001b[0m\n\u001b[0m                                                    ^\u001b[0m\n\u001b[0;31mSyntaxError\u001b[0m\u001b[0;31m:\u001b[0m invalid syntax\n"
     ]
    }
   ],
   "source": [
    "cleandf.groupby('STATINSALONE').agg('PatientAge':'mean')"
   ]
  },
  {
   "cell_type": "code",
   "execution_count": 120,
   "id": "informative-wildlife",
   "metadata": {},
   "outputs": [],
   "source": [
    "cleandf.to_csv('cleandf.csv')"
   ]
  },
  {
   "cell_type": "code",
   "execution_count": 5,
   "id": "incorporate-livestock",
   "metadata": {},
   "outputs": [],
   "source": [
    "df = pd.read_csv('cleandf.csv')"
   ]
  },
  {
   "cell_type": "code",
   "execution_count": 26,
   "id": "amber-forest",
   "metadata": {},
   "outputs": [],
   "source": [
    "dfefr = pd.read_csv('dfwithefr.csv')"
   ]
  },
  {
   "cell_type": "code",
   "execution_count": 27,
   "id": "detailed-ranking",
   "metadata": {},
   "outputs": [],
   "source": [
    "cleandf = pd.merge(df,dfefr, on = 'EPI')"
   ]
  },
  {
   "cell_type": "code",
   "execution_count": 28,
   "id": "registered-nerve",
   "metadata": {},
   "outputs": [],
   "source": [
    "\n",
    "cleandf['eGFR<60'] = ['yes' if x < 60 else 'no' for x in cleandf['eGFR']]\n"
   ]
  },
  {
   "cell_type": "code",
   "execution_count": 30,
   "id": "dynamic-backing",
   "metadata": {},
   "outputs": [],
   "source": [
    "cleandf.to_csv('micro.csv')"
   ]
  },
  {
   "cell_type": "code",
   "execution_count": 31,
   "id": "dental-purple",
   "metadata": {},
   "outputs": [
    {
     "data": {
      "text/plain": [
       "59.22361262241567"
      ]
     },
     "execution_count": 31,
     "metadata": {},
     "output_type": "execute_result"
    }
   ],
   "source": [
    "cleandf.eGFR.mean()"
   ]
  },
  {
   "cell_type": "code",
   "execution_count": null,
   "id": "intimate-capacity",
   "metadata": {},
   "outputs": [],
   "source": []
  },
  {
   "cell_type": "code",
   "execution_count": 51,
   "id": "greenhouse-religious",
   "metadata": {},
   "outputs": [
    {
     "data": {
      "text/plain": [
       "microv\n",
       "0    65.915346\n",
       "1    38.583333\n",
       "Name: eGFR, dtype: float64"
      ]
     },
     "execution_count": 51,
     "metadata": {},
     "output_type": "execute_result"
    }
   ],
   "source": [
    "pd.crosstab(cleandf['eGFR'], cleandf['microv'], margins=True)\n",
    "cleandf.groupby('microv')['eGFR'].mean()"
   ]
  },
  {
   "cell_type": "code",
   "execution_count": 45,
   "id": "fabulous-dealer",
   "metadata": {},
   "outputs": [
    {
     "data": {
      "text/html": [
       "<div>\n",
       "<style scoped>\n",
       "    .dataframe tbody tr th:only-of-type {\n",
       "        vertical-align: middle;\n",
       "    }\n",
       "\n",
       "    .dataframe tbody tr th {\n",
       "        vertical-align: top;\n",
       "    }\n",
       "\n",
       "    .dataframe thead th {\n",
       "        text-align: right;\n",
       "    }\n",
       "</style>\n",
       "<table border=\"1\" class=\"dataframe\">\n",
       "  <thead>\n",
       "    <tr style=\"text-align: right;\">\n",
       "      <th></th>\n",
       "      <th>VisitID</th>\n",
       "      <th>EncounterNumber</th>\n",
       "      <th>EPI</th>\n",
       "      <th>MRN</th>\n",
       "      <th>FacilityName</th>\n",
       "      <th>PatientName</th>\n",
       "      <th>PatientAge</th>\n",
       "      <th>Race</th>\n",
       "      <th>Gender</th>\n",
       "      <th>Ethnicity</th>\n",
       "      <th>...</th>\n",
       "      <th>diabet_peri</th>\n",
       "      <th>diabet_neuor</th>\n",
       "      <th>diabet_retino</th>\n",
       "      <th>fulcer</th>\n",
       "      <th>micro</th>\n",
       "      <th>microv</th>\n",
       "      <th>RACE</th>\n",
       "      <th>eGFR</th>\n",
       "      <th>eGFR&lt;60</th>\n",
       "      <th>status</th>\n",
       "    </tr>\n",
       "    <tr>\n",
       "      <th>CKD</th>\n",
       "      <th></th>\n",
       "      <th></th>\n",
       "      <th></th>\n",
       "      <th></th>\n",
       "      <th></th>\n",
       "      <th></th>\n",
       "      <th></th>\n",
       "      <th></th>\n",
       "      <th></th>\n",
       "      <th></th>\n",
       "      <th></th>\n",
       "      <th></th>\n",
       "      <th></th>\n",
       "      <th></th>\n",
       "      <th></th>\n",
       "      <th></th>\n",
       "      <th></th>\n",
       "      <th></th>\n",
       "      <th></th>\n",
       "      <th></th>\n",
       "      <th></th>\n",
       "    </tr>\n",
       "  </thead>\n",
       "  <tbody>\n",
       "    <tr>\n",
       "      <th>0</th>\n",
       "      <td>6246</td>\n",
       "      <td>6246</td>\n",
       "      <td>6246</td>\n",
       "      <td>6246</td>\n",
       "      <td>6246</td>\n",
       "      <td>6246</td>\n",
       "      <td>6246</td>\n",
       "      <td>6244</td>\n",
       "      <td>6246</td>\n",
       "      <td>6246</td>\n",
       "      <td>...</td>\n",
       "      <td>6246</td>\n",
       "      <td>6246</td>\n",
       "      <td>6246</td>\n",
       "      <td>6246</td>\n",
       "      <td>6246</td>\n",
       "      <td>6246</td>\n",
       "      <td>6246</td>\n",
       "      <td>6231</td>\n",
       "      <td>6246</td>\n",
       "      <td>6246</td>\n",
       "    </tr>\n",
       "    <tr>\n",
       "      <th>1</th>\n",
       "      <td>1121</td>\n",
       "      <td>1121</td>\n",
       "      <td>1121</td>\n",
       "      <td>1121</td>\n",
       "      <td>1121</td>\n",
       "      <td>1121</td>\n",
       "      <td>1121</td>\n",
       "      <td>1121</td>\n",
       "      <td>1121</td>\n",
       "      <td>1121</td>\n",
       "      <td>...</td>\n",
       "      <td>1121</td>\n",
       "      <td>1121</td>\n",
       "      <td>1121</td>\n",
       "      <td>1121</td>\n",
       "      <td>1121</td>\n",
       "      <td>1121</td>\n",
       "      <td>1121</td>\n",
       "      <td>1121</td>\n",
       "      <td>1121</td>\n",
       "      <td>1121</td>\n",
       "    </tr>\n",
       "  </tbody>\n",
       "</table>\n",
       "<p>2 rows × 118 columns</p>\n",
       "</div>"
      ],
      "text/plain": [
       "     VisitID  EncounterNumber   EPI   MRN  FacilityName  PatientName  \\\n",
       "CKD                                                                    \n",
       "0       6246             6246  6246  6246          6246         6246   \n",
       "1       1121             1121  1121  1121          1121         1121   \n",
       "\n",
       "     PatientAge  Race  Gender  Ethnicity  ...  diabet_peri  diabet_neuor  \\\n",
       "CKD                                       ...                              \n",
       "0          6246  6244    6246       6246  ...         6246          6246   \n",
       "1          1121  1121    1121       1121  ...         1121          1121   \n",
       "\n",
       "     diabet_retino  fulcer  micro  microv  RACE  eGFR  eGFR<60  status  \n",
       "CKD                                                                     \n",
       "0             6246    6246   6246    6246  6246  6231     6246    6246  \n",
       "1             1121    1121   1121    1121  1121  1121     1121    1121  \n",
       "\n",
       "[2 rows x 118 columns]"
      ]
     },
     "execution_count": 45,
     "metadata": {},
     "output_type": "execute_result"
    }
   ],
   "source": [
    "cleandf.groupby(by='CKD').agg('count')"
   ]
  },
  {
   "cell_type": "code",
   "execution_count": 46,
   "id": "expected-worker",
   "metadata": {},
   "outputs": [],
   "source": [
    "microdf = pd.read_csv('micro.csv')"
   ]
  },
  {
   "cell_type": "code",
   "execution_count": 66,
   "id": "adult-phoenix",
   "metadata": {},
   "outputs": [],
   "source": [
    "microdf['DR'] = microdf['diabet_retino'] + microdf['diabet_peri'] + microdf['diabet_neuor'] "
   ]
  },
  {
   "cell_type": "code",
   "execution_count": 69,
   "id": "developmental-orientation",
   "metadata": {},
   "outputs": [],
   "source": [
    "microdf['DR1'] = np.where(\n",
    "    microdf['DR'] != 0 , \n",
    "    1, \n",
    "    0\n",
    ")"
   ]
  },
  {
   "cell_type": "code",
   "execution_count": 70,
   "id": "french-farmer",
   "metadata": {},
   "outputs": [],
   "source": [
    "microdf.loc[(microdf['CKD'] == 1) & (microdf['DR1'] == 1) ,'ckd_dr'] = 1\n"
   ]
  },
  {
   "cell_type": "code",
   "execution_count": 71,
   "id": "stone-pizza",
   "metadata": {},
   "outputs": [],
   "source": [
    "microdf.ckd_dr = microdf.ckd_dr.fillna('0')"
   ]
  },
  {
   "cell_type": "code",
   "execution_count": 72,
   "id": "healthy-seattle",
   "metadata": {},
   "outputs": [],
   "source": [
    "microdf.loc[(microdf['CKD'] == 1) & (microdf['fulcer'] == 1) ,'ckd_fulcer'] = 1\n"
   ]
  },
  {
   "cell_type": "code",
   "execution_count": 73,
   "id": "numeric-violence",
   "metadata": {},
   "outputs": [],
   "source": [
    "microdf.ckd_fulcer = microdf.ckd_fulcer.fillna('0')"
   ]
  },
  {
   "cell_type": "code",
   "execution_count": 74,
   "id": "dressed-tsunami",
   "metadata": {},
   "outputs": [],
   "source": [
    "microdf.loc[(microdf['fulcer'] == 1) & (microdf['DR1'] == 1) ,'foot_DR'] = 1\n"
   ]
  },
  {
   "cell_type": "code",
   "execution_count": 75,
   "id": "competitive-newsletter",
   "metadata": {},
   "outputs": [],
   "source": [
    "microdf.foot_DR = microdf.foot_DR.fillna('0')"
   ]
  },
  {
   "cell_type": "code",
   "execution_count": 76,
   "id": "cloudy-adams",
   "metadata": {},
   "outputs": [],
   "source": [
    "microdf.loc[(microdf['fulcer'] == 1) & (microdf['DR1'] == 1) & microdf['CKD'] == 1 ,'all_micro'] = 1\n"
   ]
  },
  {
   "cell_type": "code",
   "execution_count": 77,
   "id": "structured-syndicate",
   "metadata": {},
   "outputs": [],
   "source": [
    "microdf.all_micro = microdf.all_micro.fillna('0')"
   ]
  },
  {
   "cell_type": "code",
   "execution_count": 78,
   "id": "compatible-roulette",
   "metadata": {},
   "outputs": [],
   "source": [
    "microdf.to_csv('micro1.csv')"
   ]
  },
  {
   "cell_type": "code",
   "execution_count": null,
   "id": "equal-vacuum",
   "metadata": {},
   "outputs": [],
   "source": []
  },
  {
   "cell_type": "code",
   "execution_count": null,
   "id": "distinguished-brunswick",
   "metadata": {},
   "outputs": [],
   "source": []
  },
  {
   "cell_type": "code",
   "execution_count": null,
   "id": "wound-distributor",
   "metadata": {},
   "outputs": [],
   "source": []
  }
 ],
 "metadata": {
  "kernelspec": {
   "display_name": "Python 3",
   "language": "python",
   "name": "python3"
  },
  "language_info": {
   "codemirror_mode": {
    "name": "ipython",
    "version": 3
   },
   "file_extension": ".py",
   "mimetype": "text/x-python",
   "name": "python",
   "nbconvert_exporter": "python",
   "pygments_lexer": "ipython3",
   "version": "3.7.1"
  }
 },
 "nbformat": 4,
 "nbformat_minor": 5
}
